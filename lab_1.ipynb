{
 "cells": [
  {
   "cell_type": "code",
   "execution_count": 3,
   "id": "7c746e0f",
   "metadata": {},
   "outputs": [],
   "source": [
    "import pandas as pd\n",
    "pd.set_option('display.max_columns', None)\n",
    "import numpy as np"
   ]
  },
  {
   "cell_type": "code",
   "execution_count": 5,
   "id": "89f58210",
   "metadata": {},
   "outputs": [],
   "source": [
    "numerical   = pd.read_csv('files_for_lab/numerical.csv')\n",
    "categorical = pd.read_csv('files_for_lab/categorical.csv')\n",
    "target      = pd.read_csv('files_for_lab/target.csv')"
   ]
  },
  {
   "cell_type": "code",
   "execution_count": 8,
   "id": "cfd19f2b",
   "metadata": {},
   "outputs": [
    {
     "name": "stdout",
     "output_type": "stream",
     "text": [
      "(95412, 315)\n",
      "(95412, 22)\n",
      "(95412, 2)\n"
     ]
    }
   ],
   "source": [
    "print(numerical.shape)\n",
    "print(categorical.shape)\n",
    "print(target.shape)"
   ]
  },
  {
   "cell_type": "code",
   "execution_count": 12,
   "id": "86fa9243",
   "metadata": {},
   "outputs": [
    {
     "data": {
      "text/plain": [
       "0    90569\n",
       "1     4843\n",
       "Name: TARGET_B, dtype: int64"
      ]
     },
     "execution_count": 12,
     "metadata": {},
     "output_type": "execute_result"
    }
   ],
   "source": [
    "data = pd.concat([numerical, categorical, target], axis = 1)\n",
    "data['TARGET_B'].value_counts()"
   ]
  },
  {
   "cell_type": "code",
   "execution_count": 16,
   "id": "7f4e118f",
   "metadata": {},
   "outputs": [
    {
     "data": {
      "text/plain": [
       "0"
      ]
     },
     "execution_count": 16,
     "metadata": {},
     "output_type": "execute_result"
    }
   ],
   "source": [
    "data.isna().sum().sum()"
   ]
  },
  {
   "cell_type": "code",
   "execution_count": 18,
   "id": "41719c7a",
   "metadata": {},
   "outputs": [
    {
     "data": {
      "text/plain": [
       "(95412, 339)"
      ]
     },
     "execution_count": 18,
     "metadata": {},
     "output_type": "execute_result"
    }
   ],
   "source": [
    "data.shape"
   ]
  },
  {
   "cell_type": "code",
   "execution_count": 38,
   "id": "1d77f6d6",
   "metadata": {},
   "outputs": [
    {
     "name": "stderr",
     "output_type": "stream",
     "text": [
      "/var/folders/40/fpzt8rqs1hd_nf7fht4s6n240000gn/T/ipykernel_19273/2858371737.py:9: DeprecationWarning: `np.object` is a deprecated alias for the builtin `object`. To silence this warning, use `object` by itself. Doing this will not modify any behavior and is safe. \n",
      "Deprecated in NumPy 1.20; for more details and guidance: https://numpy.org/devdocs/release/1.20.0-notes.html#deprecations\n",
      "  categoricalX = X.select_dtypes(np.object)\n"
     ]
    },
    {
     "data": {
      "text/html": [
       "<div>\n",
       "<style scoped>\n",
       "    .dataframe tbody tr th:only-of-type {\n",
       "        vertical-align: middle;\n",
       "    }\n",
       "\n",
       "    .dataframe tbody tr th {\n",
       "        vertical-align: top;\n",
       "    }\n",
       "\n",
       "    .dataframe thead th {\n",
       "        text-align: right;\n",
       "    }\n",
       "</style>\n",
       "<table border=\"1\" class=\"dataframe\">\n",
       "  <thead>\n",
       "    <tr style=\"text-align: right;\">\n",
       "      <th></th>\n",
       "      <th>STATE</th>\n",
       "      <th>HOMEOWNR</th>\n",
       "      <th>GENDER</th>\n",
       "      <th>RFA_2R</th>\n",
       "      <th>RFA_2A</th>\n",
       "      <th>GEOCODE2</th>\n",
       "      <th>DOMAIN_A</th>\n",
       "    </tr>\n",
       "  </thead>\n",
       "  <tbody>\n",
       "    <tr>\n",
       "      <th>0</th>\n",
       "      <td>IL</td>\n",
       "      <td>H</td>\n",
       "      <td>F</td>\n",
       "      <td>L</td>\n",
       "      <td>E</td>\n",
       "      <td>C</td>\n",
       "      <td>T</td>\n",
       "    </tr>\n",
       "    <tr>\n",
       "      <th>1</th>\n",
       "      <td>CA</td>\n",
       "      <td>H</td>\n",
       "      <td>M</td>\n",
       "      <td>L</td>\n",
       "      <td>G</td>\n",
       "      <td>A</td>\n",
       "      <td>S</td>\n",
       "    </tr>\n",
       "    <tr>\n",
       "      <th>2</th>\n",
       "      <td>NC</td>\n",
       "      <td>U</td>\n",
       "      <td>M</td>\n",
       "      <td>L</td>\n",
       "      <td>E</td>\n",
       "      <td>C</td>\n",
       "      <td>R</td>\n",
       "    </tr>\n",
       "    <tr>\n",
       "      <th>3</th>\n",
       "      <td>CA</td>\n",
       "      <td>U</td>\n",
       "      <td>F</td>\n",
       "      <td>L</td>\n",
       "      <td>E</td>\n",
       "      <td>C</td>\n",
       "      <td>R</td>\n",
       "    </tr>\n",
       "    <tr>\n",
       "      <th>4</th>\n",
       "      <td>FL</td>\n",
       "      <td>H</td>\n",
       "      <td>F</td>\n",
       "      <td>L</td>\n",
       "      <td>F</td>\n",
       "      <td>A</td>\n",
       "      <td>S</td>\n",
       "    </tr>\n",
       "  </tbody>\n",
       "</table>\n",
       "</div>"
      ],
      "text/plain": [
       "  STATE HOMEOWNR GENDER RFA_2R RFA_2A GEOCODE2 DOMAIN_A\n",
       "0    IL        H      F      L      E        C        T\n",
       "1    CA        H      M      L      G        A        S\n",
       "2    NC        U      M      L      E        C        R\n",
       "3    CA        U      F      L      E        C        R\n",
       "4    FL        H      F      L      F        A        S"
      ]
     },
     "metadata": {},
     "output_type": "display_data"
    },
    {
     "name": "stdout",
     "output_type": "stream",
     "text": [
      "STATE 12\n",
      "HOMEOWNR 2\n",
      "GENDER 3\n",
      "RFA_2R 1\n",
      "RFA_2A 4\n",
      "GEOCODE2 4\n",
      "DOMAIN_A 5\n"
     ]
    }
   ],
   "source": [
    "from sklearn.model_selection import train_test_split\n",
    "from sklearn.preprocessing import OneHotEncoder\n",
    "from sklearn.preprocessing import MinMaxScaler\n",
    "\n",
    "y = data['TARGET_B']\n",
    "X = data.drop(['TARGET_B','TARGET_D'], axis = 1)\n",
    "\n",
    "numericalX = X.select_dtypes(np.number)\n",
    "categoricalX = X.select_dtypes(np.object)\n",
    "\n",
    "# scaling \n",
    "\n",
    "scaler = MinMaxScaler()\n",
    "scaler.fit(numericalX)\n",
    "scaled_numerical = scaler.transform(numericalX)\n",
    "scaled_numerical = pd.DataFrame(scaled_numerical, columns = numericalX.columns)\n",
    "\n",
    "# encoding\n",
    "\n",
    "display(categoricalX.head())\n",
    "\n",
    "for col in categoricalX.columns:\n",
    "    print(col, categoricalX[col].nunique())\n",
    "\n",
    "encoder = OneHotEncoder(drop='first').fit(categoricalX)\n",
    "encoded_categorical = encoder.transform(categoricalX).toarray()\n",
    "cols = encoder.get_feature_names_out()\n",
    "encoded_categorical = pd.DataFrame(encoded_categorical, columns=cols)\n",
    "\n",
    "# concat\n",
    "\n",
    "X = pd.concat([scaled_numerical, encoded_categorical], axis = 1)\n",
    "\n",
    "X_train, X_test, y_train, y_test = train_test_split(X, y, test_size=0.2, random_state=0)"
   ]
  },
  {
   "cell_type": "markdown",
   "id": "a010620f",
   "metadata": {},
   "source": [
    "## Decission Tree"
   ]
  },
  {
   "cell_type": "code",
   "execution_count": 51,
   "id": "9f1d6444",
   "metadata": {},
   "outputs": [
    {
     "name": "stdout",
     "output_type": "stream",
     "text": [
      "Train data score was: 0.95 \n",
      "Test data score was: 0.95\n"
     ]
    }
   ],
   "source": [
    "from sklearn.tree import DecisionTreeClassifier\n",
    "\n",
    "regr = DecisionTreeClassifier(max_depth=10,\n",
    "                             criterion = 'gini',\n",
    "                             min_samples_split=10,\n",
    "                             min_samples_leaf = 5,\n",
    "                             max_features = 6)\n",
    "\n",
    "model = regr.fit(X_train, y_train)\n",
    "print(\"Train data score was: {:.2f} \".format(regr.score(X_train, y_train)))\n",
    "print(\"Test data score was: {:.2f}\".format(regr.score(X_test, y_test)))"
   ]
  },
  {
   "cell_type": "code",
   "execution_count": 45,
   "id": "0670a7c5",
   "metadata": {},
   "outputs": [
    {
     "name": "stdout",
     "output_type": "stream",
     "text": [
      "(76329, 354)\n",
      "(144972, 354)\n"
     ]
    }
   ],
   "source": [
    "# now upsample\n",
    "from imblearn.over_sampling import SMOTE\n",
    "\n",
    "sm = SMOTE(random_state=100,k_neighbors=3)\n",
    "X_train_SMOTE,y_train_SMOTE = sm.fit_resample(X_train,y_train)\n",
    "\n",
    "print(X_train.shape)\n",
    "print(X_train_SMOTE.shape)\n"
   ]
  },
  {
   "cell_type": "code",
   "execution_count": 130,
   "id": "18e288b0",
   "metadata": {},
   "outputs": [
    {
     "name": "stdout",
     "output_type": "stream",
     "text": [
      "Upscaled train data score was: 0.77 \n",
      "Test data score was: 0.70\n",
      "Full data score was: 0.71\n"
     ]
    }
   ],
   "source": [
    "model = regr.fit(X_train_SMOTE, y_train_SMOTE)\n",
    "print(\"Upscaled train data score was: {:.2f} \".format(regr.score(X_train_SMOTE, y_train_SMOTE)))\n",
    "print(\"Test data score was: {:.2f}\".format(regr.score(X_test, y_test)))\n",
    "print(\"Full data score was: {:.2f}\".format(regr.score(X,y)))\n",
    "#text_representation = tree.export_text(regr)\n",
    "#print(text_representation)"
   ]
  },
  {
   "cell_type": "code",
   "execution_count": 131,
   "id": "ade85b4a",
   "metadata": {},
   "outputs": [
    {
     "data": {
      "text/plain": [
       "0    18083\n",
       "1     1000\n",
       "Name: TARGET_B, dtype: int64"
      ]
     },
     "metadata": {},
     "output_type": "display_data"
    },
    {
     "data": {
      "text/plain": [
       "array([[13178,  4905],\n",
       "       [  728,   272]])"
      ]
     },
     "metadata": {},
     "output_type": "display_data"
    }
   ],
   "source": [
    "from sklearn.metrics import confusion_matrix\n",
    "\n",
    "y_pred = regr.predict(X_test)\n",
    "display(y_test.value_counts())\n",
    "display(confusion_matrix(y_test, y_pred))"
   ]
  },
  {
   "cell_type": "markdown",
   "id": "da0e1a7f",
   "metadata": {},
   "source": [
    "## Random Forest"
   ]
  },
  {
   "cell_type": "code",
   "execution_count": 118,
   "id": "a6b32067",
   "metadata": {},
   "outputs": [
    {
     "name": "stdout",
     "output_type": "stream",
     "text": [
      "The accuracy for the Random Forest in the TRAIN set is 0.88\n",
      "The accuracy for the Random Forest in the TEST  set is 0.83\n",
      "The accuracy for the Random Forest in the FULL  set is 0.84\n"
     ]
    },
    {
     "data": {
      "text/plain": [
       "0    18083\n",
       "1     1000\n",
       "Name: TARGET_B, dtype: int64"
      ]
     },
     "metadata": {},
     "output_type": "display_data"
    },
    {
     "data": {
      "text/plain": [
       "array([[79081, 11488],\n",
       "       [ 3911,   932]])"
      ]
     },
     "metadata": {},
     "output_type": "display_data"
    }
   ],
   "source": [
    "from sklearn.ensemble import RandomForestClassifier\n",
    "\n",
    "clf = RandomForestClassifier(max_depth=5,\n",
    "                             min_samples_split=20,\n",
    "                             min_samples_leaf =20,\n",
    "                             max_samples=0.8,\n",
    "                             random_state = 42)\n",
    "clf.fit(X_train_SMOTE, y_train_SMOTE)\n",
    "\n",
    "print(\"The accuracy for the Random Forest in the TRAIN set is {:.2f}\".format(clf.score(X_train_SMOTE, y_train_SMOTE)))\n",
    "print(\"The accuracy for the Random Forest in the TEST  set is {:.2f}\".format(clf.score(X_test, y_test)))\n",
    "print(\"The accuracy for the Random Forest in the FULL  set is {:.2f}\".format(clf.score(X, y)))\n",
    "\n",
    "y_pred = clf.predict(X)\n",
    "display(y_test.value_counts())\n",
    "display(confusion_matrix(y, y_pred))"
   ]
  },
  {
   "cell_type": "code",
   "execution_count": 65,
   "id": "2d2005e0",
   "metadata": {},
   "outputs": [
    {
     "data": {
      "image/png": "[encoded data removed]",
      "text/plain": [
       "<Figure size 432x288 with 2 Axes>"
      ]
     },
     "metadata": {
      "needs_background": "light"
     },
     "output_type": "display_data"
    }
   ],
   "source": [
    "import matplotlib.pyplot as plt\n",
    "from sklearn.metrics import ConfusionMatrixDisplay\n",
    "from sklearn.metrics import confusion_matrix\n",
    "\n",
    "y_pred = clf.predict(X)\n",
    "\n",
    "cm = confusion_matrix(y, y_pred, labels=clf.classes_)\n",
    "disp = ConfusionMatrixDisplay(confusion_matrix=cm, display_labels=clf.classes_)\n",
    "disp.plot()\n",
    "plt.show()\n",
    "\n",
    "## the model produces too many type 1 and type 2 errors. \n",
    "## from business standpoint you compare the cost of the letter and expected donation\n",
    "## so the cost of false positive is the cost of the mailings (0.7 usd)\n",
    "## the cost of false negative is the mean donation (16 usd) less the cost of the mailing\n",
    "## the cost of one false negative exceeds the cost of one false positive\n",
    "## if we try to increase the donations and bias the model towards the positive results, \n",
    "## we encrease the number of false positives. \n",
    "## We can do it untill the marginal costs of false mailings is less than the marginal revenue.\n",
    "\n",
    "# Revenue = true_positive * (mean_donation)\n",
    "# Costs = true_positive * (mail) + false_positive * (mail)\n",
    "# Target function = revenue - costs (max)\n",
    "\n",
    "## Aside from tuning the hyperparameters of the model we can make our model to be more biased\n",
    "## towards positive outcomes by applying weights to them. \n",
    "## Required weight could be calculated by maximization of the target function"
   ]
  },
  {
   "cell_type": "code",
   "execution_count": 115,
   "id": "8e8f6d2d",
   "metadata": {},
   "outputs": [
    {
     "name": "stdout",
     "output_type": "stream",
     "text": [
      "weight = 1.0\n"
     ]
    },
    {
     "data": {
      "text/plain": [
       "array([[79081, 11488],\n",
       "       [ 3911,   932]])"
      ]
     },
     "metadata": {},
     "output_type": "display_data"
    },
    {
     "name": "stdout",
     "output_type": "stream",
     "text": [
      "weight = 1.1\n"
     ]
    },
    {
     "data": {
      "text/plain": [
       "array([[74969, 15600],\n",
       "       [ 3616,  1227]])"
      ]
     },
     "metadata": {},
     "output_type": "display_data"
    },
    {
     "name": "stdout",
     "output_type": "stream",
     "text": [
      "weight = 1.2\n"
     ]
    },
    {
     "data": {
      "text/plain": [
       "array([[70688, 19881],\n",
       "       [ 3306,  1537]])"
      ]
     },
     "metadata": {},
     "output_type": "display_data"
    },
    {
     "name": "stdout",
     "output_type": "stream",
     "text": [
      "weight = 1.3\n"
     ]
    },
    {
     "data": {
      "text/plain": [
       "array([[66128, 24441],\n",
       "       [ 3007,  1836]])"
      ]
     },
     "metadata": {},
     "output_type": "display_data"
    },
    {
     "name": "stdout",
     "output_type": "stream",
     "text": [
      "weight = 1.4\n"
     ]
    },
    {
     "data": {
      "text/plain": [
       "array([[61656, 28913],\n",
       "       [ 2742,  2101]])"
      ]
     },
     "metadata": {},
     "output_type": "display_data"
    },
    {
     "name": "stdout",
     "output_type": "stream",
     "text": [
      "weight = 1.5\n"
     ]
    },
    {
     "data": {
      "text/plain": [
       "array([[57429, 33140],\n",
       "       [ 2500,  2343]])"
      ]
     },
     "metadata": {},
     "output_type": "display_data"
    },
    {
     "name": "stdout",
     "output_type": "stream",
     "text": [
      "weight = 1.6\n"
     ]
    },
    {
     "data": {
      "text/plain": [
       "array([[53260, 37309],\n",
       "       [ 2260,  2583]])"
      ]
     },
     "metadata": {},
     "output_type": "display_data"
    },
    {
     "name": "stdout",
     "output_type": "stream",
     "text": [
      "weight = 1.7\n"
     ]
    },
    {
     "data": {
      "text/plain": [
       "array([[49487, 41082],\n",
       "       [ 2031,  2812]])"
      ]
     },
     "metadata": {},
     "output_type": "display_data"
    },
    {
     "name": "stdout",
     "output_type": "stream",
     "text": [
      "weight = 1.8\n"
     ]
    },
    {
     "data": {
      "text/plain": [
       "array([[45554, 45015],\n",
       "       [ 1840,  3003]])"
      ]
     },
     "metadata": {},
     "output_type": "display_data"
    },
    {
     "name": "stdout",
     "output_type": "stream",
     "text": [
      "weight = 1.9\n"
     ]
    },
    {
     "data": {
      "text/plain": [
       "array([[42048, 48521],\n",
       "       [ 1654,  3189]])"
      ]
     },
     "metadata": {},
     "output_type": "display_data"
    },
    {
     "name": "stdout",
     "output_type": "stream",
     "text": [
      "weight = 2.0\n"
     ]
    },
    {
     "data": {
      "text/plain": [
       "array([[38793, 51776],\n",
       "       [ 1508,  3335]])"
      ]
     },
     "metadata": {},
     "output_type": "display_data"
    },
    {
     "name": "stdout",
     "output_type": "stream",
     "text": [
      "weight = 2.1\n"
     ]
    },
    {
     "data": {
      "text/plain": [
       "array([[35152, 55417],\n",
       "       [ 1353,  3490]])"
      ]
     },
     "metadata": {},
     "output_type": "display_data"
    },
    {
     "name": "stdout",
     "output_type": "stream",
     "text": [
      "weight = 2.2\n"
     ]
    },
    {
     "data": {
      "text/plain": [
       "array([[32646, 57923],\n",
       "       [ 1232,  3611]])"
      ]
     },
     "metadata": {},
     "output_type": "display_data"
    },
    {
     "name": "stdout",
     "output_type": "stream",
     "text": [
      "weight = 2.3\n"
     ]
    },
    {
     "data": {
      "text/plain": [
       "array([[29618, 60951],\n",
       "       [ 1084,  3759]])"
      ]
     },
     "metadata": {},
     "output_type": "display_data"
    },
    {
     "name": "stdout",
     "output_type": "stream",
     "text": [
      "weight = 2.4\n"
     ]
    },
    {
     "data": {
      "text/plain": [
       "array([[27511, 63058],\n",
       "       [  991,  3852]])"
      ]
     },
     "metadata": {},
     "output_type": "display_data"
    },
    {
     "name": "stdout",
     "output_type": "stream",
     "text": [
      "weight = 2.5\n"
     ]
    },
    {
     "data": {
      "text/plain": [
       "array([[25560, 65009],\n",
       "       [  894,  3949]])"
      ]
     },
     "metadata": {},
     "output_type": "display_data"
    },
    {
     "name": "stdout",
     "output_type": "stream",
     "text": [
      "weight = 2.6\n"
     ]
    },
    {
     "data": {
      "text/plain": [
       "array([[23595, 66974],\n",
       "       [  814,  4029]])"
      ]
     },
     "metadata": {},
     "output_type": "display_data"
    },
    {
     "name": "stdout",
     "output_type": "stream",
     "text": [
      "weight = 2.7\n"
     ]
    },
    {
     "data": {
      "text/plain": [
       "array([[22168, 68401],\n",
       "       [  741,  4102]])"
      ]
     },
     "metadata": {},
     "output_type": "display_data"
    },
    {
     "name": "stdout",
     "output_type": "stream",
     "text": [
      "weight = 2.8\n"
     ]
    },
    {
     "data": {
      "text/plain": [
       "array([[20429, 70140],\n",
       "       [  659,  4184]])"
      ]
     },
     "metadata": {},
     "output_type": "display_data"
    },
    {
     "name": "stdout",
     "output_type": "stream",
     "text": [
      "weight = 2.9\n"
     ]
    },
    {
     "data": {
      "text/plain": [
       "array([[18964, 71605],\n",
       "       [  589,  4254]])"
      ]
     },
     "metadata": {},
     "output_type": "display_data"
    }
   ],
   "source": [
    "weights = [i/10 for i in range(10,30)]\n",
    "weight  = []\n",
    "true_p  = []\n",
    "false_p = []\n",
    "mail_c  = 0.68\n",
    "\n",
    "for w in weights:\n",
    "    \n",
    "    clf = RandomForestClassifier(max_depth=5,\n",
    "                             min_samples_split=20,\n",
    "                             min_samples_leaf =20,\n",
    "                             max_samples=0.8,\n",
    "                             random_state = 42,\n",
    "                             n_jobs=-1)\n",
    "    \n",
    "    clf.fit(X_train_SMOTE, y_train_SMOTE,sample_weight = np.array([w if i == 1 else 1 for i in y_train_SMOTE]))\n",
    "\n",
    "    y_pred = clf.predict(X)\n",
    "    print('weight =',w)\n",
    "    cm = confusion_matrix(y, y_pred)\n",
    "    display(cm)\n",
    "    \n",
    "    weight.append(w)\n",
    "    true_p.append(cm[1][1])\n",
    "    false_p.append(cm[0][1])\n",
    "\n",
    "income = pd.DataFrame({'weight':weight,'true_p':true_p,'false_p':false_p})\n"
   ]
  },
  {
   "cell_type": "code",
   "execution_count": 121,
   "id": "fe43b6b4",
   "metadata": {},
   "outputs": [
    {
     "data": {
      "text/html": [
       "<div>\n",
       "<style scoped>\n",
       "    .dataframe tbody tr th:only-of-type {\n",
       "        vertical-align: middle;\n",
       "    }\n",
       "\n",
       "    .dataframe tbody tr th {\n",
       "        vertical-align: top;\n",
       "    }\n",
       "\n",
       "    .dataframe thead th {\n",
       "        text-align: right;\n",
       "    }\n",
       "</style>\n",
       "<table border=\"1\" class=\"dataframe\">\n",
       "  <thead>\n",
       "    <tr style=\"text-align: right;\">\n",
       "      <th></th>\n",
       "      <th>weight</th>\n",
       "      <th>true_p</th>\n",
       "      <th>false_p</th>\n",
       "      <th>revenue</th>\n",
       "      <th>costs</th>\n",
       "      <th>profit</th>\n",
       "    </tr>\n",
       "  </thead>\n",
       "  <tbody>\n",
       "    <tr>\n",
       "      <th>0</th>\n",
       "      <td>1.0</td>\n",
       "      <td>932</td>\n",
       "      <td>11488</td>\n",
       "      <td>14561.89</td>\n",
       "      <td>8445.60</td>\n",
       "      <td>6116.29</td>\n",
       "    </tr>\n",
       "    <tr>\n",
       "      <th>1</th>\n",
       "      <td>1.1</td>\n",
       "      <td>1227</td>\n",
       "      <td>15600</td>\n",
       "      <td>19171.07</td>\n",
       "      <td>11442.36</td>\n",
       "      <td>7728.71</td>\n",
       "    </tr>\n",
       "    <tr>\n",
       "      <th>2</th>\n",
       "      <td>1.2</td>\n",
       "      <td>1537</td>\n",
       "      <td>19881</td>\n",
       "      <td>24014.62</td>\n",
       "      <td>14564.24</td>\n",
       "      <td>9450.38</td>\n",
       "    </tr>\n",
       "    <tr>\n",
       "      <th>3</th>\n",
       "      <td>1.3</td>\n",
       "      <td>1836</td>\n",
       "      <td>24441</td>\n",
       "      <td>28686.30</td>\n",
       "      <td>17868.36</td>\n",
       "      <td>10817.94</td>\n",
       "    </tr>\n",
       "    <tr>\n",
       "      <th>4</th>\n",
       "      <td>1.4</td>\n",
       "      <td>2101</td>\n",
       "      <td>28913</td>\n",
       "      <td>32826.75</td>\n",
       "      <td>21089.52</td>\n",
       "      <td>11737.23</td>\n",
       "    </tr>\n",
       "    <tr>\n",
       "      <th>5</th>\n",
       "      <td>1.5</td>\n",
       "      <td>2343</td>\n",
       "      <td>33140</td>\n",
       "      <td>36607.84</td>\n",
       "      <td>24128.44</td>\n",
       "      <td>12479.40</td>\n",
       "    </tr>\n",
       "    <tr>\n",
       "      <th>6</th>\n",
       "      <td>1.6</td>\n",
       "      <td>2583</td>\n",
       "      <td>37309</td>\n",
       "      <td>40357.68</td>\n",
       "      <td>27126.56</td>\n",
       "      <td>13231.12</td>\n",
       "    </tr>\n",
       "    <tr>\n",
       "      <th>7</th>\n",
       "      <td>1.7</td>\n",
       "      <td>2812</td>\n",
       "      <td>41082</td>\n",
       "      <td>43935.66</td>\n",
       "      <td>29847.92</td>\n",
       "      <td>14087.74</td>\n",
       "    </tr>\n",
       "    <tr>\n",
       "      <th>8</th>\n",
       "      <td>1.8</td>\n",
       "      <td>3003</td>\n",
       "      <td>45015</td>\n",
       "      <td>46919.91</td>\n",
       "      <td>32652.24</td>\n",
       "      <td>14267.67</td>\n",
       "    </tr>\n",
       "    <tr>\n",
       "      <th>9</th>\n",
       "      <td>1.9</td>\n",
       "      <td>3189</td>\n",
       "      <td>48521</td>\n",
       "      <td>49826.03</td>\n",
       "      <td>35162.80</td>\n",
       "      <td>14663.23</td>\n",
       "    </tr>\n",
       "    <tr>\n",
       "      <th>10</th>\n",
       "      <td>2.0</td>\n",
       "      <td>3335</td>\n",
       "      <td>51776</td>\n",
       "      <td>52107.19</td>\n",
       "      <td>37475.48</td>\n",
       "      <td>14631.71</td>\n",
       "    </tr>\n",
       "    <tr>\n",
       "      <th>11</th>\n",
       "      <td>2.1</td>\n",
       "      <td>3490</td>\n",
       "      <td>55417</td>\n",
       "      <td>54528.96</td>\n",
       "      <td>40056.76</td>\n",
       "      <td>14472.20</td>\n",
       "    </tr>\n",
       "    <tr>\n",
       "      <th>12</th>\n",
       "      <td>2.2</td>\n",
       "      <td>3611</td>\n",
       "      <td>57923</td>\n",
       "      <td>56419.51</td>\n",
       "      <td>41843.12</td>\n",
       "      <td>14576.39</td>\n",
       "    </tr>\n",
       "    <tr>\n",
       "      <th>13</th>\n",
       "      <td>2.3</td>\n",
       "      <td>3759</td>\n",
       "      <td>60951</td>\n",
       "      <td>58731.91</td>\n",
       "      <td>44002.80</td>\n",
       "      <td>14729.11</td>\n",
       "    </tr>\n",
       "    <tr>\n",
       "      <th>14</th>\n",
       "      <td>2.4</td>\n",
       "      <td>3852</td>\n",
       "      <td>63058</td>\n",
       "      <td>60184.97</td>\n",
       "      <td>45498.80</td>\n",
       "      <td>14686.17</td>\n",
       "    </tr>\n",
       "    <tr>\n",
       "      <th>15</th>\n",
       "      <td>2.5</td>\n",
       "      <td>3949</td>\n",
       "      <td>65009</td>\n",
       "      <td>61700.54</td>\n",
       "      <td>46891.44</td>\n",
       "      <td>14809.10</td>\n",
       "    </tr>\n",
       "    <tr>\n",
       "      <th>16</th>\n",
       "      <td>2.6</td>\n",
       "      <td>4029</td>\n",
       "      <td>66974</td>\n",
       "      <td>62950.48</td>\n",
       "      <td>48282.04</td>\n",
       "      <td>14668.44</td>\n",
       "    </tr>\n",
       "    <tr>\n",
       "      <th>17</th>\n",
       "      <td>2.7</td>\n",
       "      <td>4102</td>\n",
       "      <td>68401</td>\n",
       "      <td>64091.06</td>\n",
       "      <td>49302.04</td>\n",
       "      <td>14789.02</td>\n",
       "    </tr>\n",
       "    <tr>\n",
       "      <th>18</th>\n",
       "      <td>2.8</td>\n",
       "      <td>4184</td>\n",
       "      <td>70140</td>\n",
       "      <td>65372.26</td>\n",
       "      <td>50540.32</td>\n",
       "      <td>14831.94</td>\n",
       "    </tr>\n",
       "    <tr>\n",
       "      <th>19</th>\n",
       "      <td>2.9</td>\n",
       "      <td>4254</td>\n",
       "      <td>71605</td>\n",
       "      <td>66465.96</td>\n",
       "      <td>51584.12</td>\n",
       "      <td>14881.84</td>\n",
       "    </tr>\n",
       "  </tbody>\n",
       "</table>\n",
       "</div>"
      ],
      "text/plain": [
       "    weight  true_p  false_p   revenue     costs    profit\n",
       "0      1.0     932    11488  14561.89   8445.60   6116.29\n",
       "1      1.1    1227    15600  19171.07  11442.36   7728.71\n",
       "2      1.2    1537    19881  24014.62  14564.24   9450.38\n",
       "3      1.3    1836    24441  28686.30  17868.36  10817.94\n",
       "4      1.4    2101    28913  32826.75  21089.52  11737.23\n",
       "5      1.5    2343    33140  36607.84  24128.44  12479.40\n",
       "6      1.6    2583    37309  40357.68  27126.56  13231.12\n",
       "7      1.7    2812    41082  43935.66  29847.92  14087.74\n",
       "8      1.8    3003    45015  46919.91  32652.24  14267.67\n",
       "9      1.9    3189    48521  49826.03  35162.80  14663.23\n",
       "10     2.0    3335    51776  52107.19  37475.48  14631.71\n",
       "11     2.1    3490    55417  54528.96  40056.76  14472.20\n",
       "12     2.2    3611    57923  56419.51  41843.12  14576.39\n",
       "13     2.3    3759    60951  58731.91  44002.80  14729.11\n",
       "14     2.4    3852    63058  60184.97  45498.80  14686.17\n",
       "15     2.5    3949    65009  61700.54  46891.44  14809.10\n",
       "16     2.6    4029    66974  62950.48  48282.04  14668.44\n",
       "17     2.7    4102    68401  64091.06  49302.04  14789.02\n",
       "18     2.8    4184    70140  65372.26  50540.32  14831.94\n",
       "19     2.9    4254    71605  66465.96  51584.12  14881.84"
      ]
     },
     "execution_count": 121,
     "metadata": {},
     "output_type": "execute_result"
    }
   ],
   "source": [
    "donat   = data[data['TARGET_D']>0]['TARGET_D'].mean()\n",
    "income['revenue'] =(income['true_p']*donat).round(2)\n",
    "income['costs']   =(income['true_p']+income['false_p'])*mail_c\n",
    "income['profit']  =(income['revenue']-income['costs']).round(2)\n",
    "income"
   ]
  },
  {
   "cell_type": "code",
   "execution_count": 129,
   "id": "16f671c2",
   "metadata": {},
   "outputs": [
    {
     "data": {
      "image/png": "[encoded data removed]",
      "text/plain": [
       "<Figure size 432x288 with 3 Axes>"
      ]
     },
     "metadata": {
      "needs_background": "light"
     },
     "output_type": "display_data"
    }
   ],
   "source": [
    "fig, ax1 = plt.subplots(3,1) #figsize=(width,hight)\n",
    "sns.lineplot(x='weight', y='revenue',data=income, ax=ax1[0])\n",
    "sns.lineplot(x='weight', y='costs',data=income, ax=ax1[1])\n",
    "sns.lineplot(x='weight', y='profit',data=income, ax=ax1[2])\n",
    "\n",
    "plt.show()\n",
    "\n",
    "## the growth of profit stops at weight 1.9."
   ]
  },
  {
   "cell_type": "code",
   "execution_count": null,
   "id": "44895c41",
   "metadata": {},
   "outputs": [],
   "source": []
  }
 ],
 "metadata": {
  "kernelspec": {
   "display_name": "Python 3 (ipykernel)",
   "language": "python",
   "name": "python3"
  },
  "language_info": {
   "codemirror_mode": {
    "name": "ipython",
    "version": 3
   },
   "file_extension": ".py",
   "mimetype": "text/x-python",
   "name": "python",
   "nbconvert_exporter": "python",
   "pygments_lexer": "ipython3",
   "version": "3.9.7"
  }
 },
 "nbformat": 4,
 "nbformat_minor": 5
}
